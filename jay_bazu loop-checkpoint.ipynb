{
 "cells": [
  {
   "cell_type": "code",
   "execution_count": 2,
   "id": "91224b79",
   "metadata": {},
   "outputs": [
    {
     "name": "stdout",
     "output_type": "stream",
     "text": [
      "jayjay\n",
      "jayjay\n",
      "jayjay\n",
      "jayjay\n",
      "jayjay\n"
     ]
    }
   ],
   "source": [
    "def print_jayjay():\n",
    "    x = 0\n",
    "    while x <=10 :\n",
    "        if x < 5:\n",
    "            print(\"jayjay\")\n",
    "        elif x == 10:\n",
    "            break\n",
    "        x += 1\n",
    "\n",
    "print_jayjay()"
   ]
  },
  {
   "cell_type": "code",
   "execution_count": 2,
   "id": "f642905d",
   "metadata": {},
   "outputs": [
    {
     "name": "stdout",
     "output_type": "stream",
     "text": [
      "hello jayjay\n",
      "hello jayjay\n",
      "hello jayjay\n",
      "hello jayjay\n",
      "hello jayjay\n"
     ]
    }
   ],
   "source": [
    "def greetings(name):\n",
    "    print(f\"hello {name}\")\n",
    "\n",
    "x = 0\n",
    "while x <= 10:\n",
    "    if x < 5:\n",
    "        greetings(\"jayjay\")\n",
    "    else:\n",
    "        break\n",
    "    x += 1"
   ]
  },
  {
   "cell_type": "markdown",
   "id": "f9d97651",
   "metadata": {},
   "source": [
    "# translate the for loop to while loop\n",
    "Imagine a person named Agnes is finally ready to achieve her dream of becoming a competitive eater! Because the competition is so fierce, she knows she'll need to do lots of training to become number one.\n",
    "\n",
    "Her first regiment of training consists of eating pizza. Below is a for loop version of her training process. Using your knowledge of while loops, translate the pizza eating code below from a for loop to a while loop.\n",
    "slices=6\n",
    "slices_eaten=0\n",
    "for slice in range(slices):\n",
    " print(\"another slice eaten!!!!!\")\n",
    " slices_eaten +=1\n",
    " print(f\"now eaten{slices_eaten}\") in while loop"
   ]
  },
  {
   "cell_type": "code",
   "execution_count": 4,
   "id": "179a931b",
   "metadata": {},
   "outputs": [
    {
     "name": "stdout",
     "output_type": "stream",
     "text": [
      "another slice eaten!!!!!\n",
      "now eaten 1\n",
      "another slice eaten!!!!!\n",
      "now eaten 2\n",
      "another slice eaten!!!!!\n",
      "now eaten 3\n",
      "another slice eaten!!!!!\n",
      "now eaten 4\n",
      "another slice eaten!!!!!\n",
      "now eaten 5\n",
      "another slice eaten!!!!!\n",
      "now eaten 6\n"
     ]
    }
   ],
   "source": [
    "slices = 6\n",
    "slices_eaten = 0\n",
    "\n",
    "while slices_eaten < slices:\n",
    "    print(\"another slice eaten!!!!!\")\n",
    "    slices_eaten += 1\n",
    "    print(f\"now eaten {slices_eaten}\")"
   ]
  },
  {
   "cell_type": "markdown",
   "id": "13c83d57",
   "metadata": {},
   "source": [
    "#  write your while loop\n",
    "After a long night of training with pizza, Agnes sleeps like a rock. When she wakes up in the morning, she realizes that her journey is not over. It has only just begun! In the next cell, continue her training; this time she'll be eating pancakes. None of the pancakes are prepared yet, and she wants to determine how much time she'll have left over after making all the pancakes. Here are the important details:\n",
    "\n",
    "Agnes has 1468 seconds allotted for breakfast today\n",
    "Agnes will be making herself 5 pancakes\n",
    "Each pancake takes 27 seconds to cook on each side\n",
    "It takes an average of 5 seconds to either flip a pancake, add it or remove it from the pan\n",
    "There is only room for one pancake at a time on the frying pan\n",
    "Remember there are two sides to every pancake!\n",
    "After Agnes cooks the 5 pancakes, how much time will she have left over to eat them? Use a while loop to find out below.\n",
    "\n",
    "time_for_breakfast = 1468 # in seconds\n",
    "number_of_cooked_pancakes = 0\n",
    "\n"
   ]
  },
  {
   "cell_type": "code",
   "execution_count": null,
   "id": "9c16b1f9",
   "metadata": {},
   "outputs": [],
   "source": [
    "time_for_breakfast = 1468  # total time in seconds\n",
    "number_of_cooked_pancakes = 0  # track how many pancakes have been cooked\n",
    "\n",
    "# Each pancake requires 64 seconds total (including flipping, cooking, etc.)\n",
    "time_per_pancake = 27 * 2 + 5 + 5  # 64 seconds per pancake\n",
    "\n",
    "while number_of_cooked_pancakes < 5:\n",
    "    # Subtract the time it takes to cook one pancake\n",
    "    time_for_breakfast -= time_per_pancake\n",
    "    # One pancake is done, so we increment the number of cooked pancakes\n",
    "    number_of_cooked_pancakes += 1\n",
    "\n",
    "# Print how much time Agnes has left after cooking all pancakes\n",
    "print(f\"Time left after cooking pancakes: {time_for_breakfast} seconds\")\n"
   ]
  }
 ],
 "metadata": {
  "kernelspec": {
   "display_name": "Python 3 (ipykernel)",
   "language": "python",
   "name": "python3"
  },
  "language_info": {
   "codemirror_mode": {
    "name": "ipython",
    "version": 3
   },
   "file_extension": ".py",
   "mimetype": "text/x-python",
   "name": "python",
   "nbconvert_exporter": "python",
   "pygments_lexer": "ipython3",
   "version": "3.8.7"
  }
 },
 "nbformat": 4,
 "nbformat_minor": 5
}
